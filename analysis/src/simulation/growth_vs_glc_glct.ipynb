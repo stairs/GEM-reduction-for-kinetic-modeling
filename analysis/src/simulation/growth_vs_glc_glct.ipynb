{
 "cells": [
  {
   "cell_type": "code",
   "source": [
    "from roadrunner import roadrunner\n",
    "import tellurium as te\n",
    "\n",
    "roadrunner.Config.setValue(\n",
    "    roadrunner.Config.LOADSBMLOPTIONS_CONSERVED_MOIETIES, True\n",
    ")\n",
    "model = te.loada(\"../../model/Komkova2025_antimony.txt\")\n"
   ],
   "metadata": {
    "collapsed": false
   },
   "outputs": [],
   "execution_count": null
  },
  {
   "metadata": {
    "collapsed": false
   },
   "cell_type": "code",
   "source": [
    "import numpy as np\n",
    "\n",
    "glu_e = np.linspace(0, 25, 1000)\n",
    "growth = []\n",
    "\n",
    "for i in glu_e:\n",
    "    model.resetAll()\n",
    "    model.GLUe = i\n",
    "    model.simulate(0, 25, 1000)\n",
    "    growth.append(model.Growth * 24)\n",
    "\n",
    "model.resetAll()\n",
    "model.simulate(0, 25, 1000)\n",
    "ref_growth_rate = model.Growth * 24\n"
   ],
   "outputs": [],
   "execution_count": null
  },
  {
   "metadata": {},
   "cell_type": "markdown",
   "source": "## Fig. 5A The dependence of the specific growth rate of the GEM-embedded model as a function of the extracellular glucose concentration."
  },
  {
   "metadata": {
    "collapsed": false
   },
   "cell_type": "code",
   "source": [
    "import matplotlib.pyplot as plt\n",
    "import seaborn as sns\n",
    "\n",
    "sns.set_context('notebook')\n",
    "\n",
    "plt.figure(figsize=(4.1, 3))\n",
    "plt.plot(glu_e, growth, color='#C44D6F', lw=4)\n",
    "\n",
    "plt.minorticks_on()\n",
    "plt.grid(False)\n",
    "\n",
    "plt.axvline(model.GLUe, ls='--', c='gray')\n",
    "plt.plot(model.GLUe, ref_growth_rate, 'o', color='#2F4858', markersize=5)\n",
    "\n",
    "plt.ylabel('Growth rate (1/d)')\n",
    "plt.xlabel(\"External glucose [GLC$\\mathrm{_{e}}$] (mmol/l)\")\n",
    "plt.tight_layout()\n",
    "\n",
    "path = '../../out/growth_vs_GLCex.png'\n",
    "plt.savefig(path, bbox_inches='tight', transparent=True, dpi=300)\n",
    "plt.show()\n"
   ],
   "outputs": [],
   "execution_count": null
  },
  {
   "cell_type": "code",
   "source": [
    "import numpy as np\n",
    "\n",
    "vmax_glut = np.linspace(0, 150, 1000)\n",
    "growth = []\n",
    "\n",
    "for i in vmax_glut:\n",
    "    model.resetAll()\n",
    "    model.Vf_GLUT = i\n",
    "    model.simulate(0, 100, 1000)\n",
    "    growth.append(model.Growth * 24)\n",
    "\n",
    "model.resetAll()\n",
    "model.simulate(0, 100, 1000)\n",
    "ref_growth_rate = model.Growth * 24\n"
   ],
   "metadata": {
    "collapsed": false
   },
   "outputs": [],
   "execution_count": null
  },
  {
   "metadata": {},
   "cell_type": "markdown",
   "source": "## Fig.5B The dependency of the specific growth rate on the activity of the glucose transporter."
  },
  {
   "cell_type": "code",
   "source": [
    "import matplotlib.pyplot as plt\n",
    "import seaborn as sns\n",
    "\n",
    "sns.set_context('notebook')\n",
    "\n",
    "plt.figure(figsize=(4.1, 3))\n",
    "plt.plot(vmax_glut, growth, color='#00755E', lw=4)\n",
    "\n",
    "plt.axvline(model.Vf_GLUT, ls='--', c='gray')\n",
    "plt.plot(model.Vf_GLUT, ref_growth_rate, 'o', color='#2F4858', markersize=5)\n",
    "\n",
    "plt.minorticks_on()\n",
    "plt.grid(False)\n",
    "\n",
    "plt.ylabel('Growth rate (1/d)')\n",
    "plt.xlabel(\"$v_\\mathrm{max,GLCT}$ parameter (mmol/l/h)\")\n",
    "plt.tight_layout()\n",
    "\n",
    "path = '../../out/growth_vs_vmax_glct.png'\n",
    "plt.savefig(path, bbox_inches='tight', transparent=True, dpi=300)\n",
    "plt.show()\n"
   ],
   "metadata": {
    "collapsed": false
   },
   "outputs": [],
   "execution_count": null
  }
 ],
 "metadata": {
  "kernelspec": {
   "display_name": "Python 3",
   "language": "python",
   "name": "python3"
  },
  "language_info": {
   "codemirror_mode": {
    "name": "ipython",
    "version": 2
   },
   "file_extension": ".py",
   "mimetype": "text/x-python",
   "name": "python",
   "nbconvert_exporter": "python",
   "pygments_lexer": "ipython2",
   "version": "2.7.6"
  }
 },
 "nbformat": 4,
 "nbformat_minor": 0
}
