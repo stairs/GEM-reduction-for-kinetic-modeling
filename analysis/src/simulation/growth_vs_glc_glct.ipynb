{
 "cells": [
  {
   "metadata": {},
   "cell_type": "markdown",
   "source": "## Fig. 5A The dependence of the specific growth rate of the GEM-embedded model as a function of the extracellular glucose concentration."
  },
  {
   "metadata": {},
   "cell_type": "code",
   "source": [
    "from pandas import read_csv\n",
    "\n",
    "growth_vs_glue = read_csv(\"../../data/scan/growth_vs_glue_copasi.csv\", sep=r\"\\s+\",\n",
    "                       names=[\"glue\", \"growth\"], header=0)\n",
    "growth_vs_glue.head()\n"
   ],
   "outputs": [],
   "execution_count": null
  },
  {
   "metadata": {
    "collapsed": false
   },
   "cell_type": "code",
   "source": [
    "import matplotlib.pyplot as plt\n",
    "import seaborn as sns\n",
    "\n",
    "plt.rcParams.update(plt.rcParamsDefault)\n",
    "plt.rcParams[\"axes.spines.top\"] = False\n",
    "plt.rcParams[\"axes.spines.right\"] = False\n",
    "\n",
    "sns.set_context('notebook')\n",
    "plt.figure(figsize=(4.1, 3))\n",
    "\n",
    "tmp = growth_vs_glue.assign(growth_per_day=growth_vs_glue['growth'] * 24)\n",
    "plt.plot(tmp['glue'], tmp['growth_per_day'], color='#C44D6F', lw=4)\n",
    "\n",
    "glue_ref = 5 # mmol/l\n",
    "plt.axvline(glue_ref, ls='--', c='gray')\n",
    "\n",
    "plt.ylabel('Growth rate (1/d)')\n",
    "plt.xlabel(\"External glucose [GLC$\\mathrm{_{e}}$] (mmol/l)\")\n",
    "plt.tight_layout()\n",
    "plt.minorticks_on()\n",
    "\n",
    "path = '../../out/growth_vs_GLCex.png'\n",
    "plt.savefig(path, bbox_inches='tight', transparent=True, dpi=300)\n",
    "plt.show()\n"
   ],
   "outputs": [],
   "execution_count": null
  },
  {
   "metadata": {},
   "cell_type": "markdown",
   "source": "## Fig.5B The dependency of the specific growth rate on the activity of the glucose transporter."
  },
  {
   "metadata": {},
   "cell_type": "code",
   "source": [
    "from pandas import read_csv\n",
    "\n",
    "growth_vs_vmax_glct = read_csv(\"../../data/scan/growth_vs_vmax_glct_copasi.csv\", sep=r\"\\s+\",\n",
    "                          names=[\"vmax_glct\", \"growth\"], header=0)\n",
    "growth_vs_vmax_glct.head()\n"
   ],
   "outputs": [],
   "execution_count": null
  },
  {
   "cell_type": "code",
   "source": [
    "import matplotlib.pyplot as plt\n",
    "import seaborn as sns\n",
    "\n",
    "sns.set_context('notebook')\n",
    "\n",
    "plt.figure(figsize=(4.1, 3))\n",
    "tmp = growth_vs_vmax_glct.assign(growth_per_day=growth_vs_vmax_glct['growth'] * 24)\n",
    "plt.plot(tmp['vmax_glct'], tmp['growth_per_day'], color='#00755E', lw=4)\n",
    "\n",
    "vmax_glct_ref = 100 # mmol/l/h\n",
    "plt.axvline(vmax_glct_ref, ls='--', c='gray')\n",
    "\n",
    "plt.minorticks_on()\n",
    "\n",
    "plt.ylabel('Growth rate (1/d)')\n",
    "plt.xlabel(\"$v_\\mathrm{max,GLCT}$ parameter (mmol/l/h)\")\n",
    "plt.tight_layout()\n",
    "\n",
    "path = '../../out/growth_vs_vmax_glct.png'\n",
    "plt.savefig(path, bbox_inches='tight', transparent=True, dpi=300)\n",
    "plt.show()\n"
   ],
   "metadata": {
    "collapsed": false
   },
   "outputs": [],
   "execution_count": null
  }
 ],
 "metadata": {
  "kernelspec": {
   "display_name": "Python 3",
   "language": "python",
   "name": "python3"
  },
  "language_info": {
   "codemirror_mode": {
    "name": "ipython",
    "version": 2
   },
   "file_extension": ".py",
   "mimetype": "text/x-python",
   "name": "python",
   "nbconvert_exporter": "python",
   "pygments_lexer": "ipython2",
   "version": "2.7.6"
  }
 },
 "nbformat": 4,
 "nbformat_minor": 0
}
