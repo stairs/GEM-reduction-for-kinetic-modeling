{
 "cells": [
  {
   "cell_type": "code",
   "source": [
    "from roadrunner import roadrunner\n",
    "import tellurium as te\n",
    "\n",
    "roadrunner.Config.setValue(\n",
    "    roadrunner.Config.LOADSBMLOPTIONS_CONSERVED_MOIETIES, True\n",
    ")\n",
    "model = te.loada(\"../../model/Komkova2025_antimony.txt\")\n",
    "vmax_oxphos_ref = model.V_OXPHOS\n"
   ],
   "metadata": {
    "collapsed": false
   },
   "outputs": [],
   "execution_count": null
  },
  {
   "metadata": {},
   "cell_type": "markdown",
   "source": "## Fig. 4b Dependence of OxPhos flux as a function of the maximal reaction velocity of the coarse-grained OxPhos reaction. "
  },
  {
   "metadata": {
    "collapsed": false
   },
   "cell_type": "code",
   "source": [
    "import numpy as np\n",
    "\n",
    "\n",
    "def simulate_for_oxphos(model, glu_e, vmax_oxphos):\n",
    "    model.resetAll()\n",
    "    model.V_OXPHOS = vmax_oxphos\n",
    "    model.GLUe = glu_e\n",
    "    model.simulate(0, 20, 1000)\n",
    "    return model.OXPHOS\n",
    "\n",
    "\n",
    "vmax_oxphos_scan = np.linspace(0, 35, 1000)\n",
    "\n",
    "glu_e_scan = [0.5, 5, 25]\n",
    "result = {}\n",
    "\n",
    "for glu_e in glu_e_scan:\n",
    "    result[glu_e] = []\n",
    "\n",
    "    for vmax_oxphos in vmax_oxphos_scan:\n",
    "        result[glu_e].append(simulate_for_oxphos(model, glu_e, vmax_oxphos))\n"
   ],
   "outputs": [],
   "execution_count": null
  },
  {
   "cell_type": "code",
   "source": [
    "import matplotlib.pyplot as plt\n",
    "import seaborn as sns\n",
    "\n",
    "plt.rcParams.update(plt.rcParamsDefault)\n",
    "plt.rcParams[\"axes.spines.top\"] = False\n",
    "plt.rcParams[\"axes.spines.right\"] = False\n",
    "\n",
    "sns.set_context('notebook')\n",
    "plt.figure(figsize=(4.1, 3))\n",
    "\n",
    "colors = {0.5: '#59D1DC', 5: '#2D9CDB', 12: '#8A5FDB', 25: '#DB5F5F'}\n",
    "\n",
    "for glu_e, oxphos in result.items():\n",
    "    label = \"$\\mathregular{[GLU_e]}$ = %s mmol/l\" % glu_e\n",
    "    plt.plot(vmax_oxphos_scan, oxphos, label=label, color=colors[glu_e], lw=2)\n",
    "\n",
    "plt.legend()\n",
    "plt.ylabel(\"OxPhos flux (mmol/l/h)\")\n",
    "\n",
    "model.resetAll()\n",
    "plt.axvline(vmax_oxphos_ref, ls='--', c='gray')\n",
    "\n",
    "plt.xlabel(\"$v_\\mathrm{max,OxPhos}$ parameter (mmol/l/h)\")\n",
    "plt.minorticks_on()\n",
    "\n",
    "# path = \"../../out/scan/oxphos_vs_vmax_vs_glue.png\"\n",
    "# plt.savefig(path, bbox_inches='tight', pad_inches=0, transparent=True, dpi=300)\n",
    "\n",
    "path = \"../../out/oxphos_vs_vmax_vs_glue.png\"\n",
    "plt.savefig(path, bbox_inches='tight', transparent=True, dpi=300)\n",
    "\n",
    "plt.show()"
   ],
   "metadata": {
    "collapsed": false
   },
   "outputs": [],
   "execution_count": null
  },
  {
   "metadata": {},
   "cell_type": "markdown",
   "source": "## Fig. 4a Dependency of the specific growth rate on the maximal reaction velocity of the coarse-grained overall growth reaction.\n"
  },
  {
   "cell_type": "code",
   "source": [
    "from collections import defaultdict\n",
    "import numpy as np\n",
    "\n",
    "\n",
    "def simulate(model, glu_e, vmax_growth):\n",
    "    model.resetAll()\n",
    "    model.V_OXPHOS = vmax_oxphos_ref\n",
    "\n",
    "    model.Vf_GROWTH = vmax_growth\n",
    "    model.GLUe = glu_e\n",
    "    model.simulate(0, 100, 1000)\n",
    "    return model.Growth * 24\n",
    "\n",
    "\n",
    "stop = 400\n",
    "count = 2000\n",
    "vmax_growth_scan = np.linspace(0, stop, count)\n",
    "\n",
    "glu_e_scan = [0.5, 5, 12, 25]\n",
    "\n",
    "result = defaultdict(list)\n",
    "\n",
    "for glu_e in glu_e_scan:\n",
    "    result[glu_e] = []\n",
    "\n",
    "    for vmax_growth in vmax_growth_scan:\n",
    "        growth = simulate(model, glu_e, vmax_growth)\n",
    "        result[glu_e].append(growth)\n",
    "\n"
   ],
   "metadata": {
    "collapsed": false
   },
   "outputs": [],
   "execution_count": null
  },
  {
   "cell_type": "code",
   "source": [
    "import matplotlib.pyplot as plt\n",
    "import seaborn as sns\n",
    "\n",
    "sns.set_context('notebook')\n",
    "plt.figure(figsize=(4.1, 3))\n",
    "\n",
    "colors = {0.5: '#59D1DC', 5: '#2D9CDB', 12: '#8A5FDB', 25: '#DB5F5F'}\n",
    "\n",
    "for glu_e, growth_rates in result.items():\n",
    "    label = \"$\\mathregular{[GLU_e]}$ = %s mmol/l\" % glu_e\n",
    "    plt.plot(vmax_growth_scan, growth_rates, color=colors[glu_e], label=label, lw=2)\n",
    "\n",
    "plt.legend()\n",
    "plt.minorticks_on()\n",
    "\n",
    "plt.ylabel('Growth rate (1/d)')\n",
    "plt.xlabel(\"$v_\\mathrm{max,BM}$ parameter (1/h)\")\n",
    "\n",
    "model.resetAll()\n",
    "plt.axvline(200, ls='--', c='gray')\n",
    "\n",
    "path = \"../../out/growth_vs_vmax_vs_glue.png\"\n",
    "plt.savefig(path, bbox_inches='tight', transparent=True, dpi=300)\n",
    "\n",
    "plt.show()\n"
   ],
   "metadata": {
    "collapsed": false
   },
   "outputs": [],
   "execution_count": null
  }
 ],
 "metadata": {
  "kernelspec": {
   "display_name": "Python 3",
   "language": "python",
   "name": "python3"
  },
  "language_info": {
   "codemirror_mode": {
    "name": "ipython",
    "version": 2
   },
   "file_extension": ".py",
   "mimetype": "text/x-python",
   "name": "python",
   "nbconvert_exporter": "python",
   "pygments_lexer": "ipython2",
   "version": "2.7.6"
  }
 },
 "nbformat": 4,
 "nbformat_minor": 0
}
