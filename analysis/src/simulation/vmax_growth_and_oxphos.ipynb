{
 "cells": [
  {
   "metadata": {},
   "cell_type": "markdown",
   "source": "## Fig. 4b Dependence of OxPhos flux as a function of the maximal reaction velocity of the coarse-grained OxPhos reaction. "
  },
  {
   "metadata": {
    "collapsed": false
   },
   "cell_type": "code",
   "source": [
    "from pandas import read_csv\n",
    "\n",
    "oxphos_scan = read_csv(\"../../data/scan/oxphos_param_scan_copasi.csv\", sep=r\"\\s+\",\n",
    "                       names=[\"glue\", \"v_oxphos\", \"oxphos_flux\"], header=0)\n",
    "oxphos_scan.head()\n"
   ],
   "outputs": [],
   "execution_count": null
  },
  {
   "cell_type": "code",
   "source": [
    "import matplotlib.pyplot as plt\n",
    "import seaborn as sns\n",
    "\n",
    "plt.rcParams.update(plt.rcParamsDefault)\n",
    "plt.rcParams[\"axes.spines.top\"] = False\n",
    "plt.rcParams[\"axes.spines.right\"] = False\n",
    "\n",
    "colors = {0.5: '#59D1DC', 5: '#2D9CDB', 12: '#8A5FDB', 25: '#DB5F5F'}\n",
    "plt.figure(figsize=(4.1, 3))\n",
    "\n",
    "sns.set_context('notebook')\n",
    "ax = sns.lineplot(\n",
    "    data=oxphos_scan,\n",
    "    x=\"v_oxphos\",\n",
    "    y=\"oxphos_flux\",\n",
    "    hue=\"glue\",\n",
    "    linewidth=3,\n",
    "    palette=colors\n",
    ")\n",
    "\n",
    "leg = ax.legend(title=\"$\\\\mathregular{[GLU_e]}$\")\n",
    "\n",
    "for txt in leg.get_texts():\n",
    "    txt.set_text(f\"{txt.get_text()} mmol/l\")\n",
    "\n",
    "vmax_oxphos_ref = 5.25  # mmol/l/h\n",
    "plt.axvline(vmax_oxphos_ref, ls=\"--\", c=\"gray\")\n",
    "\n",
    "plt.xlabel(\"$v_{\\\\mathrm{max,OxPhos}}$ parameter (mmol/l/h)\")\n",
    "plt.ylabel(\"OxPhos flux (mmol/l/h)\")\n",
    "plt.minorticks_on()\n",
    "\n",
    "path = \"../../out/oxphos_vs_vmax_vs_glue.png\"\n",
    "plt.savefig(path, bbox_inches=\"tight\", transparent=True, dpi=300)\n",
    "plt.show()\n"
   ],
   "metadata": {
    "collapsed": false
   },
   "outputs": [],
   "execution_count": null
  },
  {
   "metadata": {},
   "cell_type": "markdown",
   "source": "## Fig. 4a Dependency of the specific growth rate on the maximal reaction velocity of the coarse-grained overall growth reaction.\n"
  },
  {
   "metadata": {},
   "cell_type": "code",
   "source": [
    "\n",
    "growth_scan = read_csv(\"../../data/scan/growth_param_scan_copasi.csv\", sep=r\"\\s+\", names=[\"glue\", \"v_growth\", \"growth\"],\n",
    "                       header=0)\n",
    "growth_scan.head()\n"
   ],
   "outputs": [],
   "execution_count": null
  },
  {
   "metadata": {},
   "cell_type": "code",
   "source": [
    "import matplotlib.pyplot as plt\n",
    "import seaborn as sns\n",
    "\n",
    "sns.set_context('notebook')\n",
    "plt.figure(figsize=(4.1, 3))\n",
    "\n",
    "tmp = growth_scan.assign(growth_per_day=growth_scan['growth'] * 24)\n",
    "\n",
    "ax = sns.lineplot(\n",
    "    data=tmp,\n",
    "    x=\"v_growth\",\n",
    "    y=\"growth_per_day\",  # now plotting the 1/d values\n",
    "    hue=\"glue\",\n",
    "    linewidth=3,\n",
    "    palette=colors\n",
    ")\n",
    "\n",
    "leg = ax.legend(title=\"$\\\\mathregular{[GLU_e]}$\",\n",
    "                bbox_to_anchor=(1.0, 0.7))\n",
    "for txt in leg.get_texts():\n",
    "    txt.set_text(f\"{txt.get_text()} mmol/l\")\n",
    "\n",
    "vmax_bm_ref = 200  # 1/h\n",
    "plt.axvline(vmax_bm_ref, ls=\"--\", c=\"gray\")\n",
    "\n",
    "plt.ylabel('Growth rate (1/d)')\n",
    "plt.xlabel(\"$v_{\\\\mathrm{max,BM}}$ parameter (1/h)\")\n",
    "plt.minorticks_on()\n",
    "\n",
    "path = \"../../out/growth_vs_vmax_vs_glue.png\"\n",
    "plt.savefig(path, bbox_inches='tight', transparent=True, dpi=300)\n",
    "plt.show()\n"
   ],
   "outputs": [],
   "execution_count": null
  }
 ],
 "metadata": {
  "kernelspec": {
   "display_name": "Python 3",
   "language": "python",
   "name": "python3"
  },
  "language_info": {
   "codemirror_mode": {
    "name": "ipython",
    "version": 2
   },
   "file_extension": ".py",
   "mimetype": "text/x-python",
   "name": "python",
   "nbconvert_exporter": "python",
   "pygments_lexer": "ipython2",
   "version": "2.7.6"
  }
 },
 "nbformat": 4,
 "nbformat_minor": 0
}
