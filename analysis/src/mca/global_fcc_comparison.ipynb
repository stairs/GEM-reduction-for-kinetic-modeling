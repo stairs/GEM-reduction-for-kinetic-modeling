{
 "cells": [
  {
   "cell_type": "code",
   "source": [
    "from src.util.io import load_reference_fccs\n",
    "\n",
    "fcc_Shestov = load_reference_fccs('../../data/fcc/ref_fcc_shestov.txt')\n",
    "fcc_Komkova = load_reference_fccs('../../data/fcc/ref_fccs_komkova.txt')\n"
   ],
   "metadata": {
    "collapsed": false
   },
   "outputs": [],
   "execution_count": null
  },
  {
   "metadata": {},
   "cell_type": "markdown",
   "source": "## Fig. 7 A global comparison of FCCs between the Shestov-derived model and the GEM-embedded model."
  },
  {
   "metadata": {
    "collapsed": false
   },
   "cell_type": "code",
   "source": [
    "import matplotlib.pyplot as plt\n",
    "from matplotlib.colors import SymLogNorm\n",
    "import seaborn as sns\n",
    "\n",
    "sns.set_context('paper')\n",
    "\n",
    "vmin = min(fcc_Shestov.min().min(), fcc_Komkova.min().min())\n",
    "vmax = max(fcc_Shestov.max().max(), fcc_Komkova.max().max())\n",
    "abs_max = abs(max(vmin, vmax))\n",
    "\n",
    "fig, axes = plt.subplots(figsize=(7.1, 5.65))\n",
    "\n",
    "norm = SymLogNorm(linthresh=0.03, vmin=-abs_max, vmax=abs_max, base=10)\n",
    "sns.heatmap(\n",
    "    fcc_Komkova, cmap='RdBu_r', annot=False, fmt=\".2f\", norm=norm, annot_kws={\"size\": 8},\n",
    "    linewidths=0.5, cbar=True, cbar_kws={ \"aspect\": 20}\n",
    ")\n",
    "\n",
    "cbar = plt.gca().collections[0].colorbar\n",
    "\n",
    "ticks = [-0.9, -0.1, -0.01, 0, 0.01, 0.1, 0.9]\n",
    "cbar.set_ticks(ticks)\n",
    "cbar.set_ticklabels([f\"{t:.2g}\" for t in ticks])\n",
    "\n",
    "path = '../../out/ref_fccs_komkova.png'\n",
    "plt.savefig(path, bbox_inches='tight', transparent=True, pad_inches=0.1, dpi=300)\n",
    "plt.show()\n"
   ],
   "outputs": [],
   "execution_count": null
  },
  {
   "cell_type": "code",
   "source": [
    "plt.figure(figsize=(6, 5.5))\n",
    "sns.heatmap(round(fcc_Shestov, 2), cmap='RdBu_r', annot=False,\n",
    "            annot_kws={\"size\": 8}, linewidths=0.5, norm=norm, cbar=False)\n",
    "\n",
    "path = '../../out/ref_fccs_shestov.png'\n",
    "plt.savefig(path, bbox_inches='tight', transparent=True, pad_inches=0.1, dpi=300)\n",
    "plt.show()"
   ],
   "metadata": {
    "collapsed": false
   },
   "outputs": [],
   "execution_count": null
  },
  {
   "metadata": {},
   "cell_type": "markdown",
   "source": "## Fig. 8 A global comparison of FCCs shown in Fig. 7 between the Shestov-derived model and the GEM-embedded model."
  },
  {
   "cell_type": "code",
   "source": [
    "import matplotlib.pyplot as plt\n",
    "import pandas as pd\n",
    "import seaborn as sns\n",
    "import numpy as np\n",
    "\n",
    "\n",
    "def to_dict(df: pd.DataFrame) -> dict:\n",
    "    result = {}\n",
    "\n",
    "    for c, values_by_index in df.to_dict().items():\n",
    "        for i, v in values_by_index.items():\n",
    "            if (i not in ['AK', 'OXYT']) and (c not in ['AK', 'OXYT']):\n",
    "                key = f\"{i},{c}\"\n",
    "                result[key] = v\n",
    "    return result\n",
    "\n",
    "\n",
    "df = pd.DataFrame({'komkova': to_dict(fcc_Komkova), \"shestov\": to_dict(fcc_Shestov)})\n",
    "min_fcc = df.min().min() - 0.05\n",
    "max_fcc = df.max().max() + 0.05\n",
    "\n",
    "df['Deviation'] = df.apply(lambda row: abs(row.komkova - row.shestov), axis=1)\n",
    "df.sort_values(by='Deviation', ascending=False, inplace=True)\n",
    "df.dropna(inplace=True)\n",
    "\n",
    "sns.set_context('talk')\n",
    "plt.figure(figsize=(4.5, 4.5))\n",
    "\n",
    "xline = np.linspace(min_fcc, max_fcc, 100)\n",
    "ax = sns.lineplot(x=xline, y=xline, c='#d3d3d3', lw=1)\n",
    "plt.setp(ax.lines, zorder=0)\n",
    "\n",
    "ax = sns.scatterplot(df, x=\"komkova\", y=\"shestov\", hue='Deviation', linewidth=0.2)\n",
    "\n",
    "plt.xlabel('FCCs, GEM-embedded model')\n",
    "plt.ylabel('FCCs, Shestov-derived model')\n",
    "\n",
    "plt.xlim(min_fcc, max_fcc)\n",
    "plt.ylim(min_fcc, max_fcc)\n",
    "plt.legend([], [], frameon=False)\n",
    "\n",
    "# for index, row in df.head(10).iterrows():\n",
    "#     plt.annotate(index, (row['komkova'], row['shestov']), fontsize=9)\n",
    "#     plt.plot(row['komkova'], row['shestov'], marker='o', linestyle='None', color='#d3d3d3')\n",
    "\n",
    "path = '../../out/ref_MCC.png'\n",
    "plt.savefig(path, bbox_inches='tight', pad_inches=0.4, dpi=300, transparent=True)\n",
    "plt.show()\n"
   ],
   "metadata": {
    "collapsed": false
   },
   "outputs": [],
   "execution_count": null
  }
 ],
 "metadata": {
  "kernelspec": {
   "display_name": "Python 3",
   "language": "python",
   "name": "python3"
  },
  "language_info": {
   "codemirror_mode": {
    "name": "ipython",
    "version": 2
   },
   "file_extension": ".py",
   "mimetype": "text/x-python",
   "name": "python",
   "nbconvert_exporter": "python",
   "pygments_lexer": "ipython2",
   "version": "2.7.6"
  }
 },
 "nbformat": 4,
 "nbformat_minor": 0
}
