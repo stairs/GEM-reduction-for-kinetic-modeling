{
 "cells": [
  {
   "cell_type": "code",
   "source": [
    "from util.io import load_reference_fccs\n",
    "\n",
    "fcc_Shestov = load_reference_fccs('../../data/fcc/ref_fcc_shestov.txt')\n",
    "fcc_Komkova = load_reference_fccs('../../data/fcc/ref_fccs_komkova.txt')\n",
    "\n",
    "fcc_Komkova.drop(columns=['Growth'], inplace=True)\n"
   ],
   "metadata": {
    "collapsed": false
   },
   "outputs": [],
   "execution_count": null
  },
  {
   "cell_type": "code",
   "source": [
    "import matplotlib.pyplot as plt\n",
    "import numpy as np\n",
    "\n",
    "def plot_fcc_difference(fcc1, fcc2, effect_short_name: str,  causes: list[str]):\n",
    "    plt.figure(figsize=(8, 2.5), dpi=600)\n",
    "    plt.grid(axis='y')\n",
    "\n",
    "    step = 2.5\n",
    "    x = np.arange(start=0, stop=step * len(causes), step=step)\n",
    "    ticks = list(causes)\n",
    "    width = 0.9\n",
    "    offset = 0.02\n",
    "\n",
    "    plt.xticks(x, ticks, rotation=55, ha='right')\n",
    "\n",
    "    plt.bar(x - width / 2 - offset / 2, height=fcc1.loc[effect_short_name, causes], width=width,\n",
    "            label=\"Shestov-derived model\", zorder=3)\n",
    "    plt.bar(x + width / 2 + offset / 2, fcc2.loc[effect_short_name, causes], width=width,\n",
    "            zorder=3,\n",
    "            label=\"GEM-embedded model\")\n",
    "\n",
    "    plt.ylabel('FCCs for {name}'.format(name=effect_short_name))\n",
    "    plt.legend(loc=\"upper left\")\n",
    "\n",
    "    image_path = '../../out/FCC_diff_' + effect_short_name + '.png'\n",
    "    plt.savefig(image_path, bbox_inches='tight', pad_inches=0)\n",
    "\n",
    "    plt.show()\n",
    "\n"
   ],
   "metadata": {
    "collapsed": false
   },
   "outputs": [],
   "execution_count": null
  },
  {
   "metadata": {},
   "cell_type": "markdown",
   "source": "## Fig. 6 Flux Control Coefficients on HK\n"
  },
  {
   "metadata": {},
   "cell_type": "code",
   "source": [
    "causes = fcc_Komkova.columns.drop(['AK', 'OXYT'])\n",
    "plot_fcc_difference(fcc_Shestov, fcc_Komkova, 'HK', causes)"
   ],
   "outputs": [],
   "execution_count": null
  },
  {
   "metadata": {},
   "cell_type": "markdown",
   "source": [
    "## Fig. S1 Differences in the flux control coefficients between the Shestov-derived model and the GEM-embedded model (for LACT, OxPhos, and ATPase flux).\n",
    "\n"
   ]
  },
  {
   "metadata": {
    "collapsed": false
   },
   "cell_type": "code",
   "source": "plot_fcc_difference(fcc_Shestov, fcc_Komkova, 'ATPase', causes)",
   "outputs": [],
   "execution_count": null
  },
  {
   "cell_type": "code",
   "source": "plot_fcc_difference(fcc_Shestov, fcc_Komkova, 'LACT', causes)\n",
   "metadata": {
    "collapsed": false
   },
   "outputs": [],
   "execution_count": null
  },
  {
   "cell_type": "code",
   "source": "plot_fcc_difference(fcc_Shestov, fcc_Komkova, 'OxPhos', causes)\n",
   "metadata": {
    "collapsed": false
   },
   "outputs": [],
   "execution_count": null
  },
  {
   "metadata": {},
   "cell_type": "markdown",
   "source": "## Fig. S2 Flux control coefficients of growth rate in the GEM-embedded model.\n"
  },
  {
   "cell_type": "code",
   "source": [
    "import matplotlib.pyplot as plt\n",
    "import seaborn as sns\n",
    "\n",
    "plt.rcParams.update(plt.rcParamsDefault)\n",
    "\n",
    "plt.rcParams[\"axes.spines.top\"] = False\n",
    "plt.rcParams[\"axes.spines.right\"] = False\n",
    "\n",
    "plt.rcParams[\"font.size\"] = 10\n",
    "sns.set_context('notebook')\n",
    "\n",
    "plt.figure(figsize=(8, 2.5), dpi=600)\n",
    "plt.grid(axis='y')\n",
    "\n",
    "ticks = list(causes)\n",
    "bar_count = len(ticks)\n",
    "\n",
    "step = 2\n",
    "bar_width = 1.2\n",
    "\n",
    "x = np.arange(start=0, stop=bar_count * step, step=step)\n",
    "plt.bar(x, fcc_Komkova.loc['Growth', causes], width=bar_width, color='#ff7f0e', zorder=3)\n",
    "plt.xticks(x, ticks, rotation=55, ha='right')\n",
    "\n",
    "plt.ylabel('FCCs for growth rate')\n",
    "plt.locator_params(axis='y', nbins=8)\n",
    "\n",
    "path = '../../out/FCC_growth.png'\n",
    "plt.savefig(path, bbox_inches='tight', transparent=True)\n",
    "\n",
    "plt.show()\n"
   ],
   "metadata": {
    "collapsed": false
   },
   "outputs": [],
   "execution_count": null
  }
 ],
 "metadata": {
  "kernelspec": {
   "display_name": "Python 3",
   "language": "python",
   "name": "python3"
  },
  "language_info": {
   "codemirror_mode": {
    "name": "ipython",
    "version": 2
   },
   "file_extension": ".py",
   "mimetype": "text/x-python",
   "name": "python",
   "nbconvert_exporter": "python",
   "pygments_lexer": "ipython2",
   "version": "2.7.6"
  }
 },
 "nbformat": 4,
 "nbformat_minor": 0
}
