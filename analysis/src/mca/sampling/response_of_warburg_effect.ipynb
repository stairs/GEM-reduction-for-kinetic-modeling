{
 "cells": [
  {
   "cell_type": "code",
   "source": [
    "from src.util.io import load_sampled_fccs, load_reference_fccs\n",
    "\n",
    "sampled_fcc_komkova = load_sampled_fccs('../../../data/mc/mc_komkova.mat')\n",
    "ref_fcc_komkova = load_reference_fccs('../../../data/fcc/ref_fccs_komkova.txt')\n",
    "\n",
    "sampled_fcc_shestov = load_sampled_fccs('../../../data/mc/mc_shestov.mat')\n",
    "ref_fcc_shestov = load_reference_fccs('../../../data/fcc/ref_fcc_shestov.txt')\n"
   ],
   "metadata": {
    "collapsed": false
   },
   "outputs": [],
   "execution_count": null
  },
  {
   "cell_type": "code",
   "source": [
    "import numpy as np\n",
    "import pandas as pd\n",
    "import seaborn as sns\n",
    "import matplotlib.pyplot as plt\n",
    "\n",
    "\n",
    "def reject_outliers(data):\n",
    "    q1 = np.quantile(data, 0.25)\n",
    "    q3 = np.quantile(data, 0.75)\n",
    "\n",
    "    iqr = q3 - q1\n",
    "    lower = q1 - 1.5 * iqr\n",
    "    upper = q3 + 1.5 * iqr\n",
    "    return data[np.logical_and(data >= lower, data <= upper)]\n",
    "\n",
    "\n",
    "def plot_violin_distribution(sampled_fcc: np.ndarray, ref_fcc: np.ndarray, causes: list[str]):\n",
    "    sns.set_style(\"whitegrid\")\n",
    "\n",
    "    fig = plt.figure(figsize=(5.4, 1.7), dpi=312)\n",
    "\n",
    "    temp = []\n",
    "    for i, rxn in enumerate(causes):\n",
    "        temp.append(reject_outliers(sampled_fcc[i, :]))\n",
    "\n",
    "    df = pd.DataFrame(data=temp).transpose()\n",
    "    lw = 0.5\n",
    "    violin = sns.violinplot(data=df, density_norm='width', linewidth=lw)\n",
    "\n",
    "    xticks = violin.get_xticks()\n",
    "    for xtick in xticks:\n",
    "        value = ref_fcc[xtick]\n",
    "        plt.hlines(y=value, xmin=xtick - 0.05, xmax=xtick + 0.05, color='r', lw=lw)\n",
    "\n",
    "    violin.set_xticks(xticks, causes)\n",
    "    plt.xticks(rotation=45)\n",
    "    return fig\n",
    "\n"
   ],
   "metadata": {
    "collapsed": false
   },
   "outputs": [],
   "execution_count": null
  },
  {
   "cell_type": "code",
   "source": [
    "import numpy as np\n",
    "\n",
    "lact_index = ref_fcc_komkova.index.get_loc('LACT')\n",
    "glct_index = ref_fcc_komkova.index.get_loc('GLCT')\n",
    "sampled_response_of_we = np.apply_along_axis(lambda row: row[lact_index] - row[glct_index], 0, sampled_fcc_komkova)\n",
    "response_of_we = np.apply_along_axis(lambda row: row[lact_index] - row[glct_index], 0, ref_fcc_komkova.to_numpy())\n",
    "response_of_we"
   ],
   "metadata": {
    "collapsed": false
   },
   "outputs": [],
   "execution_count": null
  },
  {
   "metadata": {},
   "cell_type": "markdown",
   "source": "## Fig. S6 Control coefficients for the ratio v_LACT /v_GLCT in the GEM-embedded model"
  },
  {
   "cell_type": "code",
   "source": [
    "causes = ref_fcc_komkova.columns.drop(['AK', 'OXYT', 'Growth'])\n",
    "columns = [index for (index, rxn_id) in enumerate(ref_fcc_komkova.index) if\n",
    "           rxn_id not in ['AK', 'OXYT', 'Growth']]\n",
    "\n",
    "plot_violin_distribution(sampled_response_of_we[columns, :], response_of_we[columns], causes)\n",
    "plt.ylabel(\"Response of $\\\\frac{V_{LACT}}{V_{GLCT}}$ ratio\")\n",
    "\n",
    "path = '../../../out/response_in_we.png'\n",
    "plt.savefig(path, bbox_inches='tight', pad_inches=0)\n",
    "plt.show()\n"
   ],
   "metadata": {
    "collapsed": false
   },
   "outputs": [],
   "execution_count": null
  }
 ],
 "metadata": {
  "kernelspec": {
   "display_name": "Python 3",
   "language": "python",
   "name": "python3"
  },
  "language_info": {
   "codemirror_mode": {
    "name": "ipython",
    "version": 2
   },
   "file_extension": ".py",
   "mimetype": "text/x-python",
   "name": "python",
   "nbconvert_exporter": "python",
   "pygments_lexer": "ipython2",
   "version": "2.7.6"
  }
 },
 "nbformat": 4,
 "nbformat_minor": 0
}
