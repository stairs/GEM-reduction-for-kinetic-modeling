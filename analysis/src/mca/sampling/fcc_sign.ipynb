{
 "cells": [
  {
   "cell_type": "code",
   "source": [
    "import numpy as np\n",
    "import pandas as pd\n",
    "import seaborn as sns\n",
    "import matplotlib.pyplot as plt\n",
    "\n",
    "\n",
    "def calculate_positives_ratio(sampled_fccs: np.ndarray):\n",
    "    result = np.sum(sampled_fccs > 0, axis=2)\n",
    "    result = result / sampled_fccs.shape[2]\n",
    "    return result\n",
    "\n",
    "\n",
    "def plot_fccs_signs(df: pd.DataFrame):\n",
    "    sns.heatmap(round(df, 2) * 100, cmap='RdBu_r', annot=False,\n",
    "                annot_kws={\"size\": 6}, vmin=0, vmax=100, linewidths=0.05,\n",
    "                cbar_kws={'format': '%.0f%%'})\n"
   ],
   "metadata": {
    "collapsed": false
   },
   "outputs": [],
   "execution_count": null
  },
  {
   "cell_type": "code",
   "source": [
    "from src.util.io import load_sampled_fccs, load_reference_fccs\n",
    "\n",
    "sampled_fcc_komkova = load_sampled_fccs('../../../data/mc/mc_komkova.mat')\n",
    "ref_fcc_komkova = load_reference_fccs('../../../data/fcc/ref_fccs_komkova.txt')\n",
    "\n",
    "sampled_fcc_shestov = load_sampled_fccs('../../../data/mc/mc_shestov.mat')\n",
    "ref_fcc_shestov = load_reference_fccs('../../../data/fcc/ref_fcc_shestov.txt')\n"
   ],
   "metadata": {
    "collapsed": false
   },
   "outputs": [],
   "execution_count": null
  },
  {
   "metadata": {},
   "cell_type": "markdown",
   "source": "## Fig. S4 Probabilistic sign distribution of FCCs in the ensemble of GEM-embedded models."
  },
  {
   "cell_type": "code",
   "source": [
    "from util.fcc import exclude_reactions\n",
    "\n",
    "exclude_rxns = ['AK', 'OXYT']\n",
    "selected_fcc_samples_komkova, rxn_ids = exclude_reactions(sampled_fcc_komkova, ref_fcc_komkova.index, exclude_rxns)\n",
    "\n",
    "fccs_signs_komkova = calculate_positives_ratio(selected_fcc_samples_komkova)\n",
    "\n",
    "causes = ref_fcc_komkova.columns.drop(['AK', 'OXYT', 'Growth'])\n",
    "fccs_signs_komkova_df = pd.DataFrame(fccs_signs_komkova, columns=rxn_ids, index=rxn_ids)\n",
    "plot_fccs_signs(fccs_signs_komkova_df.loc[:, causes])\n",
    "\n",
    "plt.tight_layout()\n",
    "path = '../../../out/fccs_signs_komkova'\n",
    "plt.savefig(path, bbox_inches='tight', pad_inches=0, transparent=True)\n",
    "\n",
    "plt.show()\n"
   ],
   "metadata": {
    "collapsed": false
   },
   "outputs": [],
   "execution_count": null
  },
  {
   "metadata": {},
   "cell_type": "markdown",
   "source": "## Fig. S5 Probabilistic sign distribution of FCCs in the ensemble of the Shestov-derived models."
  },
  {
   "cell_type": "code",
   "source": [
    "selected_fcc_samples_shestov, rxn_ids = exclude_reactions(sampled_fcc_shestov, ref_fcc_shestov.index, exclude_rxns)\n",
    "\n",
    "fccs_signs_shestov = calculate_positives_ratio(selected_fcc_samples_shestov)\n",
    "fccs_signs_shestov_df = pd.DataFrame(fccs_signs_shestov, columns=rxn_ids, index=rxn_ids)\n",
    "\n",
    "plot_fccs_signs(fccs_signs_shestov_df)\n",
    "plt.tight_layout()\n",
    "\n",
    "path = '../../../out/fccs_signs_shestov'\n",
    "plt.savefig(path, bbox_inches='tight', pad_inches=0, transparent=True)\n",
    "\n",
    "plt.show()\n"
   ],
   "metadata": {
    "collapsed": false
   },
   "outputs": [],
   "execution_count": null
  }
 ],
 "metadata": {
  "kernelspec": {
   "display_name": "Python 3",
   "language": "python",
   "name": "python3"
  },
  "language_info": {
   "codemirror_mode": {
    "name": "ipython",
    "version": 2
   },
   "file_extension": ".py",
   "mimetype": "text/x-python",
   "name": "python",
   "nbconvert_exporter": "python",
   "pygments_lexer": "ipython2",
   "version": "2.7.6"
  }
 },
 "nbformat": 4,
 "nbformat_minor": 0
}
