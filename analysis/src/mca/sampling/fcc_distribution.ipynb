{
 "cells": [
  {
   "cell_type": "code",
   "source": [
    "from src.util.io import load_sampled_fccs, load_reference_fccs\n",
    "\n",
    "sampled_fcc_komkova = load_sampled_fccs('../../../data/mc/mc_komkova.mat')\n",
    "ref_fcc_komkova = load_reference_fccs('../../../data/fcc/ref_fccs_komkova.txt')\n",
    "\n",
    "sampled_fcc_shestov = load_sampled_fccs('../../../data/mc/mc_shestov.mat')\n",
    "ref_fcc_shestov = load_reference_fccs('../../../data/fcc/ref_fcc_shestov.txt')\n"
   ],
   "metadata": {
    "collapsed": false
   },
   "outputs": [],
   "execution_count": null
  },
  {
   "cell_type": "code",
   "source": [
    "import matplotlib.pyplot as plt\n",
    "\n",
    "\n",
    "def plot_fcc_distribution(sampled_fccs, ref_fccs, rows, columns, name, figsize=(9, 5)):\n",
    "    plt.style.use('default')\n",
    "    fig, axes = plt.subplots(len(rows), len(columns), figsize=figsize, dpi=300, sharey=False)\n",
    "\n",
    "    for i, row in zip(rows, axes):\n",
    "        for j, ax in zip(columns, row):\n",
    "            x = sampled_fccs[i, j, :]\n",
    "            ax.hist(x, bins=50, density=True, range=(-1, 1))\n",
    "            ax.axvline(ref_fccs.iat[i, j], color='r', linewidth=1, alpha=0.4)\n",
    "\n",
    "            ax.set_xticks([])\n",
    "            ax.set_yticks([])\n",
    "\n",
    "    for i, rxn_index in enumerate(rows):\n",
    "        title = ref_fccs.index[rxn_index]\n",
    "        axes[i, 0].set_ylabel(title, va=\"center\", ha=\"right\", rotation='horizontal')\n",
    "\n",
    "    for i, rxn_index in enumerate(columns):\n",
    "        title = ref_fccs.index[rxn_index]\n",
    "        axes[-1, i].set_xlabel(title)\n",
    "\n",
    "    path = '../../../out/fccs_' + name\n",
    "    plt.savefig(path, bbox_inches='tight', pad_inches=0.05, dpi=600)\n",
    "    plt.show()\n"
   ],
   "metadata": {
    "collapsed": false
   },
   "outputs": [],
   "execution_count": null
  },
  {
   "cell_type": "markdown",
   "source": "## Fig. 10 Distribution of FCCs for the GEM-embedded model. ",
   "metadata": {
    "collapsed": false
   }
  },
  {
   "cell_type": "code",
   "source": [
    "rxn_index = [index for (index, rxn_id) in enumerate(ref_fcc_komkova.index) if rxn_id not in ['AK', 'OXYT']]\n",
    "plot_fcc_distribution(sampled_fcc_komkova, ref_fcc_komkova, rxn_index, rxn_index, 'komkova')"
   ],
   "metadata": {
    "collapsed": false
   },
   "outputs": [],
   "execution_count": null
  },
  {
   "cell_type": "markdown",
   "source": "## Fig. S3 Distribution of FCCs for the Shestov-derived model.  ",
   "metadata": {
    "collapsed": false
   }
  },
  {
   "cell_type": "code",
   "source": [
    "all_relevant = [index for (index, rxn_id) in enumerate(ref_fcc_shestov.index) if rxn_id not in ['AK', 'OXYT']]\n",
    "plot_fcc_distribution(sampled_fcc_shestov, ref_fcc_shestov, all_relevant, all_relevant, 'shestov')\n"
   ],
   "metadata": {
    "collapsed": false
   },
   "outputs": [],
   "execution_count": null
  },
  {
   "cell_type": "code",
   "source": [
    "import numpy as np\n",
    "import pandas as pd\n",
    "import seaborn as sns\n",
    "import matplotlib.pyplot as plt\n",
    "\n",
    "\n",
    "def reject_outliers(data):\n",
    "    q1 = np.quantile(data, 0.25)\n",
    "    q3 = np.quantile(data, 0.75)\n",
    "\n",
    "    iqr = q3 - q1\n",
    "    lower = q1 - 1.5 * iqr\n",
    "    upper = q3 + 1.5 * iqr\n",
    "    return data[np.logical_and(data >= lower, data <= upper)]\n",
    "\n",
    "\n",
    "def plot_violin_distribution(sampled_fcc: np.ndarray, ref_fcc: pd.DataFrame):\n",
    "    sns.set_style(\"whitegrid\")\n",
    "\n",
    "    fig = plt.figure(figsize=(5.4, 1.7), dpi=312)\n",
    "\n",
    "    temp = []\n",
    "    for i, rxn in enumerate(ref_fcc.index):\n",
    "        temp.append(reject_outliers(sampled_fcc[i, :]))\n",
    "\n",
    "    df = pd.DataFrame(data=temp).transpose()\n",
    "    lw = 0.5\n",
    "    violin = sns.violinplot(data=df, density_norm='width', linewidth=lw)\n",
    "\n",
    "    xticks = violin.get_xticks()\n",
    "    for xtick in xticks:\n",
    "        value = ref_fcc.iat[xtick]\n",
    "        plt.hlines(y=value, xmin=xtick - 0.05, xmax=xtick + 0.05, color='r', lw=lw)\n",
    "\n",
    "    violin.set_xticks(xticks, ref_fcc.index)\n",
    "    plt.xticks(rotation=45)\n",
    "    return fig\n",
    "\n"
   ],
   "metadata": {
    "collapsed": false
   },
   "outputs": [],
   "execution_count": null
  },
  {
   "metadata": {},
   "cell_type": "markdown",
   "source": "## Fig. 11"
  },
  {
   "cell_type": "code",
   "source": [
    "full_index_komkova = ref_fcc_komkova.index\n",
    "\n",
    "growth_index = full_index_komkova.get_loc('Growth')\n",
    "columns = [index for (index, rxn_id) in enumerate(ref_fcc_komkova.index) if\n",
    "           rxn_id not in ['AK', 'OXYT', 'Growth']]\n",
    "plot_violin_distribution(sampled_fcc_komkova[growth_index, columns, :], ref_fcc_komkova.iloc[growth_index, columns])\n",
    "\n",
    "plt.ylabel('FCCs for growth rate')\n",
    "path = '../../../out/fccs_vp_growth_komkova'\n",
    "plt.savefig(path, bbox_inches='tight', pad_inches=0, dpi=312)\n",
    "plt.show()\n"
   ],
   "metadata": {
    "collapsed": false
   },
   "outputs": [],
   "execution_count": null
  },
  {
   "cell_type": "code",
   "source": [
    "hk_index = full_index_komkova.get_loc('HK')\n",
    "hk_fcc_sampled = sampled_fcc_komkova[hk_index, columns, :]\n",
    "hk_fcc_ref = ref_fcc_komkova.iloc[hk_index, columns]\n",
    "\n",
    "plot_violin_distribution(hk_fcc_sampled, hk_fcc_ref)\n",
    "plt.ylabel('FCCs for HK')\n",
    "\n",
    "path = '../../../out/fccs_vp_hk_komkova'\n",
    "plt.savefig(path, bbox_inches='tight', pad_inches=0, dpi=312)\n",
    "plt.show()\n"
   ],
   "metadata": {
    "collapsed": false
   },
   "outputs": [],
   "execution_count": null
  },
  {
   "metadata": {},
   "cell_type": "markdown",
   "source": "## Fig. 9 Comparison of the distribution of FCCs for HK flux between the sampled model instances of the Shestov-derived model and the sampled model instances of the GEM-embedded model.\n"
  },
  {
   "metadata": {
    "collapsed": false
   },
   "cell_type": "code",
   "source": [
    "columns = [index for (index, rxn_id) in enumerate(ref_fcc_komkova.index) if\n",
    "           rxn_id not in ['AK', 'OXYT', 'Growth']]\n",
    "hk_fcc_sampled_sh = sampled_fcc_shestov[hk_index, columns, :]\n",
    "hk_fcc_ref_sh = ref_fcc_shestov.iloc[hk_index, columns]\n",
    "\n",
    "hk_fcc_sampled = sampled_fcc_komkova[hk_index, columns, :]\n",
    "hk_fcc_ref = ref_fcc_komkova.iloc[hk_index, columns]\n",
    "\n",
    "sns.set_context('paper')\n",
    "sns.set_style(\"whitegrid\")\n",
    "fig = plt.figure(figsize=(5, 1.7), dpi=600)\n",
    "\n",
    "komkova = {}\n",
    "for i, rxn in enumerate(hk_fcc_ref.index):\n",
    "    komkova[rxn] = reject_outliers(hk_fcc_sampled[i, :])\n",
    "\n",
    "shestov = {}\n",
    "for i, rxn in enumerate(hk_fcc_ref_sh.index):\n",
    "    shestov[rxn] = reject_outliers(hk_fcc_sampled_sh[i, :])\n",
    "\n",
    "df = pd.DataFrame(\n",
    "    [[label, val, 'GEM-embedded model'] for label, values in komkova.items() for val in values]\n",
    "    + [[label, val, 'Shestov-derived model'] for label, values in shestov.items() for val in values],\n",
    "    columns=['label', 'value', 'Model'])\n",
    "hue_order = ['Shestov-derived model', 'GEM-embedded model']\n",
    "violin = sns.violinplot(data=df, x='label', y='value', density_norm='width', linewidth=0.5,\n",
    "                        split=True, hue='Model', hue_order=hue_order, inner='quart')\n",
    "\n",
    "violin.set(xlabel=None, ylabel='FCCs for HK')\n",
    "plt.xticks(rotation=45)\n",
    "plt.legend(loc='upper left')\n",
    "\n",
    "path = '../../../out/fccs_vp_hk_komkova_vs_shestov'\n",
    "plt.savefig(path, bbox_inches='tight', transparent=True)\n",
    "plt.show()\n"
   ],
   "outputs": [],
   "execution_count": null
  }
 ],
 "metadata": {
  "kernelspec": {
   "display_name": "Python 3",
   "language": "python",
   "name": "python3"
  },
  "language_info": {
   "codemirror_mode": {
    "name": "ipython",
    "version": 2
   },
   "file_extension": ".py",
   "mimetype": "text/x-python",
   "name": "python",
   "nbconvert_exporter": "python",
   "pygments_lexer": "ipython2",
   "version": "2.7.6"
  }
 },
 "nbformat": 4,
 "nbformat_minor": 0
}
