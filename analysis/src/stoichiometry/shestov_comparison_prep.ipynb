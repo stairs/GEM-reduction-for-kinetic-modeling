{
 "cells": [
  {
   "metadata": {},
   "cell_type": "markdown",
   "source": [
    "## Coarse-Grained Stoichiometry of OXPHOS and Growth reactions\n",
    "To align the stoichiometries of the reduced HT29 network with the Shestov et al. model, we follow Baroukh et al. (2014) and Tummler et al. (2015) to collapse the elementary flux modes for respiration and biomass formation into two single coarse grained reactions, using pFBA solution as a reference. For growth, we require the reduced model to match the full‐model maximal growth rate on the defined medium at a lactate secretion–to–glucose uptake flux ratio of 1.5."
   ]
  },
  {
   "metadata": {
    "ExecuteTime": {
     "end_time": "2025-05-27T15:24:20.863338Z",
     "start_time": "2025-05-27T15:24:19.866066Z"
    }
   },
   "cell_type": "code",
   "source": [
    "import cobra\n",
    "\n",
    "pruned_model = cobra.io.read_sbml_model('../../model/ht29_pruned.xml')\n",
    "pruned_model.solver = 'gurobi'\n"
   ],
   "outputs": [
    {
     "name": "stdout",
     "output_type": "stream",
     "text": [
      "Set parameter Username\n",
      "Academic license - for non-commercial use only - expires 2025-12-28\n"
     ]
    }
   ],
   "execution_count": 1
  },
  {
   "metadata": {
    "ExecuteTime": {
     "end_time": "2025-05-27T15:24:20.934385Z",
     "start_time": "2025-05-27T15:24:20.866864Z"
    }
   },
   "cell_type": "code",
   "source": [
    "from cobra.flux_analysis import pfba\n",
    "\n",
    "# check the default pFBA solution\n",
    "with pruned_model as m:\n",
    "    solution = pfba(m)\n",
    "\n",
    "    summary = m.summary(solution)\n",
    "    print(summary.to_string(names=True))\n"
   ],
   "outputs": [
    {
     "name": "stdout",
     "output_type": "stream",
     "text": [
      "Objective\n",
      "=========\n",
      "1.0 Generic human cell biomass reaction = 0.06481559423913957\n",
      "\n",
      "Uptake\n",
      "------\n",
      "          Metabolite Reaction      Flux  C-Number C-Flux\n",
      "           glucose_e MAR09034     2.101         6 85.08%\n",
      "         linoleate_e MAR09035     0.005        18  0.61%\n",
      "        linolenate_e MAR09036     0.005        18  0.61%\n",
      "         histidine_e MAR09038  0.007963         6  0.32%\n",
      "        isoleucine_e MAR09039   0.01561         6  0.63%\n",
      "           leucine_e MAR09040   0.03184         6  1.29%\n",
      "            lysine_e MAR09041   0.02497         6  1.01%\n",
      "        methionine_e MAR09042  0.007796         5  0.26%\n",
      "     phenylalanine_e MAR09043    0.0132         9  0.80%\n",
      "         threonine_e MAR09044   0.01979         4  0.53%\n",
      "        tryptophan_e MAR09045  0.003422        11  0.25%\n",
      "            valine_e MAR09046   0.02335         5  0.79%\n",
      "                O2_e MAR09048   0.04214         0  0.00%\n",
      "           alanine_e MAR09061   0.04871         3  0.99%\n",
      "        asparagine_e MAR09062   0.01301         4  0.35%\n",
      "         glutamine_e MAR09063   0.07518         5  2.54%\n",
      "          tyrosine_e MAR09064  0.009893         9  0.60%\n",
      "          arginine_e MAR09066   0.01776         6  0.72%\n",
      "            serine_e MAR09069      0.05         3  1.01%\n",
      "         aspartate_e MAR09070      0.05         4  1.35%\n",
      "                Pi_e MAR09072   0.03407         0  0.00%\n",
      "              Fe2+_e MAR09076 2.683E-06         0  0.00%\n",
      "            biotin_e MAR09109 2.683E-06        10  0.00%\n",
      "        riboflavin_e MAR09143 5.367E-06        17  0.00%\n",
      "        pyridoxine_e MAR09144 2.683E-06         8  0.00%\n",
      "      pantothenate_e MAR09145 0.0007396         9  0.04%\n",
      "            folate_e MAR09146 2.683E-06        19  0.00%\n",
      "  alpha-tocopherol_e MAR09151 2.683E-06        29  0.00%\n",
      "  gamma-tocopherol_e MAR09153 2.683E-06        28  0.00%\n",
      "           thiamin_e MAR09159 2.683E-06        12  0.00%\n",
      "       lipoic_acid_e MAR09167 2.683E-06         8  0.00%\n",
      "aquacob(III)alamin_e MAR09269 2.683E-06        62  0.00%\n",
      "          inositol_e MAR09361 0.0009921         6  0.04%\n",
      "           cystine_e MAR09363  0.003827         6  0.15%\n",
      "      nicotinamide_e MAR09378 0.0001222         6  0.00%\n",
      "         retinoate_e MAR09404 3.751E-05        20  0.01%\n",
      "\n",
      "Secretion\n",
      "---------\n",
      "        Metabolite Reaction       Flux  C-Number C-Flux\n",
      "             H2O_e MAR09047    -0.4849         0  0.00%\n",
      "           HCO3-_e MAR09078    -0.2248         1  1.86%\n",
      "              H+_e MAR09079     -3.758         0  0.00%\n",
      "         choline_e MAR09083   -0.00226         5  0.09%\n",
      "         acetate_e MAR09086 -3.751E-05         2  0.00%\n",
      "       L-lactate_e MAR09135     -3.918         3 97.32%\n",
      "coproporphyrin_I_e MAR09701  -0.001271        36  0.38%\n",
      "         biomass_e MAR10024   -0.06482         0  0.00%\n",
      "          malate_e MAR11404   -0.01048         4  0.35%\n",
      "            NH4+_e MAR11420   -0.03495         0  0.00%\n",
      "\n"
     ]
    }
   ],
   "execution_count": 2
  },
  {
   "metadata": {
    "ExecuteTime": {
     "end_time": "2025-05-27T15:24:21.004133Z",
     "start_time": "2025-05-27T15:24:21.001125Z"
    }
   },
   "cell_type": "code",
   "source": [
    "import math\n",
    "from cobra import Reaction\n",
    "\n",
    "\n",
    "def build_balancing_reaction(S, flux_vector, rxn_id, model, tol = 1e-10):\n",
    "    \"\"\"\n",
    "    Constructs a single lumped reaction that captures the net effect of all fluxes not explicitly modeled in the reduced network.\n",
    "    \n",
    "    Parameters:\n",
    "    - S: numpy array of shape (m, n), the stoichiometric matrix of the model (m metabolites, n reactions).\n",
    "    - flux_vector: pandas Series of length n containing optimized fluxes from pFBA.\n",
    "    - rxn_id: string identifier for the new reaction.\n",
    "    - model: cobra.Model\n",
    "    - tol: float threshold; coefficients with absolute value below tol are omitted.\n",
    "    \n",
    "    Returns:\n",
    "    - reaction: cobra.Reaction representing a coarse-grained reaction for the dynamic model, preserving mass and cofactor balances.\n",
    "    \"\"\"\n",
    " \n",
    "    result = S.dot(flux_vector)\n",
    "    metabolites = {}\n",
    "\n",
    "    for i in range(0, len(result)):\n",
    "        metabolite = model.metabolites[i]\n",
    "\n",
    "        if not math.isclose(result[i], 0, abs_tol=tol):\n",
    "            metabolites[metabolite] = result[i].round(2)\n",
    "\n",
    "    reaction = Reaction(rxn_id)\n",
    "    reaction.add_metabolites(metabolites)\n",
    "    return reaction\n"
   ],
   "outputs": [],
   "execution_count": 3
  },
  {
   "cell_type": "code",
   "source": [
    "from cobra.flux_analysis import pfba\n",
    "from cobra.util import create_stoichiometric_matrix\n",
    "\n",
    "# Reactions explicitly retained in the reduced network (from Shestov et al. with additional transport reactions)\n",
    "protected_reactions = {'MAR09034', 'MAR05029', 'MAR09048', 'MAR04896',\n",
    "                       'MAR04394', 'MAR04381', 'MAR04379', 'MAR04375',\n",
    "                       'MAR04391', 'MAR04373', 'MAR04368', 'MAR04365',\n",
    "                       'MAR04363', 'MAR04358', 'MAR04388', 'MAR05998',\n",
    "                       'MAR09135', 'MAR03964', 'MAR10024'}\n",
    "\n",
    "# Compute OXPHOS reaction stoichiometry\n",
    "with pruned_model as m:\n",
    "    # Set objective to ATP maintenance reaction\n",
    "    m.objective = 'MAR03964'\n",
    "    # Define minimal medium: \n",
    "    # MAR09034: Glucose uptake, MAR09048: Oxygen uptake\n",
    "    m.medium = {'MAR09034': 1, 'MAR09048': 1000}\n",
    "\n",
    "    solution = pfba(m)\n",
    "    v = solution.fluxes.copy()\n",
    "    # Zero out protected reactions\n",
    "    v[v.index.isin(protected_reactions)] = 0\n",
    "    # Scale fluxes for consistency with the Shestov model\n",
    "    v = v / 2\n",
    "\n",
    "    S = create_stoichiometric_matrix(pruned_model, array_type='dense')\n",
    "    oxphos = build_balancing_reaction(S, v, 'OXPHOS', m)\n",
    "    \n",
    "    print(\"Oxidative Phosphorylation Reaction:\")\n",
    "    print(oxphos.build_reaction_string(use_metabolite_names=True))\n",
    "\n",
    "pruned_model.add_reactions([oxphos])\n",
    "protected_reactions.add('OXPHOS')\n"
   ],
   "metadata": {
    "collapsed": false,
    "ExecuteTime": {
     "end_time": "2025-05-27T15:24:21.060890Z",
     "start_time": "2025-05-27T15:24:21.012937Z"
    }
   },
   "outputs": [
    {
     "name": "stdout",
     "output_type": "stream",
     "text": [
      "Oxidative Phosphorylation Reaction:\n",
      "14.75 ADP_c + 16.75 H+_c + NADH_c + 3.0 O2_c + 14.75 Pi_c + pyruvate_c --> 14.75 ATP_c + 14.75 H2O_c + NAD+_c\n"
     ]
    }
   ],
   "execution_count": 4
  },
  {
   "metadata": {
    "ExecuteTime": {
     "end_time": "2025-05-27T15:24:21.171985Z",
     "start_time": "2025-05-27T15:24:21.107569Z"
    }
   },
   "cell_type": "code",
   "source": [
    "with pruned_model as m:\n",
    "    solution = pfba(m)\n",
    "\n",
    "    summary = m.summary(solution)\n",
    "    print(summary.to_string(names=True))\n",
    "    "
   ],
   "outputs": [
    {
     "name": "stdout",
     "output_type": "stream",
     "text": [
      "Objective\n",
      "=========\n",
      "1.0 Generic human cell biomass reaction = 0.06481559423913957\n",
      "\n",
      "Uptake\n",
      "------\n",
      "          Metabolite Reaction      Flux  C-Number C-Flux\n",
      "           glucose_e MAR09034     0.347         6 48.50%\n",
      "         linoleate_e MAR09035     0.005        18  2.10%\n",
      "        linolenate_e MAR09036     0.005        18  2.10%\n",
      "         histidine_e MAR09038  0.007963         6  1.11%\n",
      "        isoleucine_e MAR09039   0.01561         6  2.18%\n",
      "           leucine_e MAR09040   0.03184         6  4.45%\n",
      "            lysine_e MAR09041   0.02497         6  3.49%\n",
      "        methionine_e MAR09042  0.007796         5  0.91%\n",
      "     phenylalanine_e MAR09043    0.0132         9  2.77%\n",
      "         threonine_e MAR09044   0.01979         4  1.84%\n",
      "        tryptophan_e MAR09045  0.003422        11  0.88%\n",
      "            valine_e MAR09046   0.02335         5  2.72%\n",
      "                O2_e MAR09048    0.7557         0  0.00%\n",
      "           alanine_e MAR09061   0.04871         3  3.40%\n",
      "        asparagine_e MAR09062   0.01301         4  1.21%\n",
      "         glutamine_e MAR09063   0.07518         5  8.76%\n",
      "          tyrosine_e MAR09064  0.009893         9  2.07%\n",
      "          arginine_e MAR09066   0.01776         6  2.48%\n",
      "            serine_e MAR09069      0.05         3  3.49%\n",
      "         aspartate_e MAR09070      0.05         4  4.66%\n",
      "                Pi_e MAR09072   0.03407         0  0.00%\n",
      "              Fe2+_e MAR09076 2.683E-06         0  0.00%\n",
      "            biotin_e MAR09109 2.683E-06        10  0.00%\n",
      "        riboflavin_e MAR09143 5.367E-06        17  0.00%\n",
      "        pyridoxine_e MAR09144 2.683E-06         8  0.00%\n",
      "      pantothenate_e MAR09145 0.0007396         9  0.16%\n",
      "            folate_e MAR09146 2.683E-06        19  0.00%\n",
      "  alpha-tocopherol_e MAR09151 2.683E-06        29  0.00%\n",
      "  gamma-tocopherol_e MAR09153 2.683E-06        28  0.00%\n",
      "           thiamin_e MAR09159 2.683E-06        12  0.00%\n",
      "       lipoic_acid_e MAR09167 2.683E-06         8  0.00%\n",
      "aquacob(III)alamin_e MAR09269 2.683E-06        62  0.00%\n",
      "          inositol_e MAR09361 0.0009921         6  0.14%\n",
      "           cystine_e MAR09363  0.003827         6  0.53%\n",
      "      nicotinamide_e MAR09378 0.0001222         6  0.02%\n",
      "         retinoate_e MAR09404 3.751E-05        20  0.02%\n",
      "\n",
      "Secretion\n",
      "---------\n",
      "        Metabolite Reaction       Flux  C-Number C-Flux\n",
      "             H2O_e MAR09047    -0.4849         0  0.00%\n",
      "           HCO3-_e MAR09078    -0.2132         1 25.74%\n",
      "         choline_e MAR09083   -0.00226         5  1.36%\n",
      "         acetate_e MAR09086 -3.751E-05         2  0.01%\n",
      "       L-lactate_e MAR09135     -0.172         3 62.30%\n",
      "coproporphyrin_I_e MAR09701  -0.001271        36  5.52%\n",
      "         biomass_e MAR10024   -0.06482         0  0.00%\n",
      "          malate_e MAR11404   -0.01048         4  5.06%\n",
      "            NH4+_e MAR11420   -0.03495         0  0.00%\n",
      "\n"
     ]
    }
   ],
   "execution_count": 5
  },
  {
   "metadata": {
    "ExecuteTime": {
     "end_time": "2025-05-27T15:24:21.501260Z",
     "start_time": "2025-05-27T15:24:21.192663Z"
    }
   },
   "cell_type": "code",
   "source": [
    "import numpy as np\n",
    "\n",
    "# Sweep oxygen uptake bounds to visualize growth and L/G ratio\n",
    "o2_bounds = np.linspace(-1.0, -0.1, num=10)\n",
    "\n",
    "growth_rates = []\n",
    "l_g_ratios = []\n",
    "\n",
    "for bound in o2_bounds:\n",
    "    with pruned_model as m:\n",
    "        m.reactions.MAR09048.bounds = (bound, 0)\n",
    "        sol = pfba(m)\n",
    "        mu = sol.fluxes['MAR10024']\n",
    "        ratio = -sol.fluxes['MAR09135'] / sol.fluxes['MAR09034']\n",
    "        growth_rates.append(mu)\n",
    "        l_g_ratios.append(ratio)\n",
    "    "
   ],
   "outputs": [],
   "execution_count": 6
  },
  {
   "metadata": {
    "ExecuteTime": {
     "end_time": "2025-05-27T15:24:21.649881Z",
     "start_time": "2025-05-27T15:24:21.510471Z"
    }
   },
   "cell_type": "code",
   "source": [
    "import matplotlib.pyplot as plt\n",
    "\n",
    "# Plot growth rate and L/G ratio vs oxygen bound on dual axes\n",
    "fig, ax1 = plt.subplots()\n",
    "ax2 = ax1.twinx()\n",
    "\n",
    "ax1.plot(o2_bounds, growth_rates, marker='o', label='Growth rate')\n",
    "ax2.plot(o2_bounds, l_g_ratios, marker='s', label='L/G ratio', linestyle='--')\n",
    "\n",
    "ax1.set_xlabel('Oxygen uptake boundary (mmol/gDW/h)')\n",
    "ax1.set_ylabel('Growth rate (1/h)')\n",
    "ax2.set_ylabel('Lactate-to-Glucose flux ratio')\n",
    "\n",
    "lines_1, labels_1 = ax1.get_legend_handles_labels()\n",
    "lines_2, labels_2 = ax2.get_legend_handles_labels()\n",
    "ax1.legend(lines_1 + lines_2, labels_1 + labels_2, loc='lower right')\n",
    "\n",
    "plt.grid(False)\n",
    "plt.show()\n"
   ],
   "outputs": [
    {
     "data": {
      "text/plain": [
       "<Figure size 640x480 with 2 Axes>"
      ],
      "image/png": "[encoded data removed]"
     },
     "metadata": {},
     "output_type": "display_data"
    }
   ],
   "execution_count": 7
  },
  {
   "cell_type": "code",
   "source": [
    "from cobra.flux_analysis import pfba\n",
    "\n",
    "# Compute Growth reaction stoichiometry\n",
    "with pruned_model as m:\n",
    "    # Constrain oxygen uptake to get L/G flux ratio of 1.5\n",
    "    m.reactions.MAR09048.bounds = -0.53, 0\n",
    "\n",
    "    solution = pfba(m)\n",
    "    ratio = -solution.fluxes['MAR09135'] / solution.fluxes['MAR09034']\n",
    "    print(f\"Lactate-to-Glucose flux ratio: {ratio:.1f}\\n\")\n",
    "    \n",
    "    v = solution.fluxes.copy()\n",
    "    v[v.index.isin(protected_reactions)] = 0\n",
    "    v = v * 100 / solution.fluxes['MAR10024']\n",
    "\n",
    "    S = create_stoichiometric_matrix(m, array_type='dense')\n",
    "    growth_reaction = build_balancing_reaction(S, v, 'Growth', m)\n",
    "    \n",
    "    print(\"Growth Reaction Stoichiometry:\")\n",
    "    print(growth_reaction.build_reaction_string(use_metabolite_names=True))\n"
   ],
   "metadata": {
    "collapsed": false,
    "ExecuteTime": {
     "end_time": "2025-05-27T15:24:21.701048Z",
     "start_time": "2025-05-27T15:24:21.659947Z"
    }
   },
   "outputs": [
    {
     "name": "stdout",
     "output_type": "stream",
     "text": [
      "Lactate-to-Glucose flux ratio: 1.5\n",
      "\n",
      "Growth Reaction Stoichiometry:\n",
      "0.07 1,3-bisphospho-D-glycerate_c + 48.01 3-phospho-D-glycerate_c + 6295.43 ATP_c + 19.53 DHAP_c + 0.43 fructose-1,6-bisphosphate_c + 16.47 fructose-6-phosphate_c + 7.0 GAP_c + 41.29 glucose-6-phosphate_c + 2093.56 H+_e + 6380.63 H2O_c + 289.58 NADH_c + 47.12 O2_c + 241.5 pyruvate_c --> 6295.43 ADP_c + 5716.33 H+_c + 289.58 NAD+_c + 6428.71 Pi_c + 100.0 biomass_e\n"
     ]
    }
   ],
   "execution_count": 8
  }
 ],
 "metadata": {
  "kernelspec": {
   "name": "python3",
   "language": "python",
   "display_name": "Python 3 (ipykernel)"
  },
  "language_info": {
   "codemirror_mode": {
    "name": "ipython",
    "version": 2
   },
   "file_extension": ".py",
   "mimetype": "text/x-python",
   "name": "python",
   "nbconvert_exporter": "python",
   "pygments_lexer": "ipython2",
   "version": "2.7.6"
  }
 },
 "nbformat": 4,
 "nbformat_minor": 0
}
