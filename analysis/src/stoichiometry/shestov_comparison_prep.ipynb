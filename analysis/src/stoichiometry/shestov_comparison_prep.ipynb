{
 "cells": [
  {
   "metadata": {},
   "cell_type": "markdown",
   "source": [
    "## Coarse-Grained Stoichiometry of OXPHOS and Growth reactions\n",
    "To align the stoichiometries of the reduced HT29 network with the Shestov et al. model, we follow Baroukh et al. (2014) and Tummler et al. (2015) to collapse the elementary flux modes for respiration and biomass formation into two single coarse grained reactions, using pFBA solution as a reference. For growth, we require the reduced model to match the full‐model maximal growth rate on the defined medium at a lactate secretion–to–glucose uptake flux ratio of 1.5."
   ]
  },
  {
   "metadata": {},
   "cell_type": "code",
   "source": [
    "import cobra\n",
    "\n",
    "pruned_model = cobra.io.read_sbml_model('../../model/ht29_pruned.xml')\n",
    "pruned_model.solver = 'gurobi'\n"
   ],
   "outputs": [],
   "execution_count": null
  },
  {
   "metadata": {},
   "cell_type": "code",
   "source": [
    "from cobra.flux_analysis import pfba\n",
    "\n",
    "# check the default pFBA solution\n",
    "with pruned_model as m:\n",
    "    solution = pfba(m)\n",
    "\n",
    "    summary = m.summary(solution)\n",
    "    print(summary.to_string(names=True))\n"
   ],
   "outputs": [],
   "execution_count": null
  },
  {
   "metadata": {},
   "cell_type": "code",
   "source": [
    "import math\n",
    "from cobra import Reaction\n",
    "\n",
    "\n",
    "def build_balancing_reaction(S, flux_vector, rxn_id, model, tol = 1e-10):\n",
    "    \"\"\"\n",
    "    Constructs a single lumped reaction that captures the net effect of all fluxes not explicitly modeled in the reduced network.\n",
    "    \n",
    "    Parameters:\n",
    "    - S: numpy array of shape (m, n), the stoichiometric matrix of the model (m metabolites, n reactions).\n",
    "    - flux_vector: pandas Series of length n containing optimized fluxes from pFBA.\n",
    "    - rxn_id: string identifier for the new reaction.\n",
    "    - model: cobra.Model\n",
    "    - tol: float threshold; coefficients with absolute value below tol are omitted.\n",
    "    \n",
    "    Returns:\n",
    "    - reaction: cobra.Reaction representing a coarse-grained reaction for the dynamic model, preserving mass and cofactor balances.\n",
    "    \"\"\"\n",
    " \n",
    "    result = S.dot(flux_vector)\n",
    "    metabolites = {}\n",
    "\n",
    "    for i in range(0, len(result)):\n",
    "        metabolite = model.metabolites[i]\n",
    "\n",
    "        if not math.isclose(result[i], 0, abs_tol=tol):\n",
    "            metabolites[metabolite] = result[i].round(2)\n",
    "\n",
    "    reaction = Reaction(rxn_id)\n",
    "    reaction.add_metabolites(metabolites)\n",
    "    return reaction\n"
   ],
   "outputs": [],
   "execution_count": null
  },
  {
   "cell_type": "code",
   "source": [
    "from cobra.flux_analysis import pfba\n",
    "from cobra.util import create_stoichiometric_matrix\n",
    "\n",
    "# Reactions explicitly retained in the reduced network (from Shestov et al. with additional transport reactions)\n",
    "protected_reactions = {'MAR09034', 'MAR05029', 'MAR09048', 'MAR04896',\n",
    "                       'MAR04394', 'MAR04381', 'MAR04379', 'MAR04375',\n",
    "                       'MAR04391', 'MAR04373', 'MAR04368', 'MAR04365',\n",
    "                       'MAR04363', 'MAR04358', 'MAR04388', 'MAR05998',\n",
    "                       'MAR09135', 'MAR03964', 'MAR10024'}\n",
    "\n",
    "# Compute OXPHOS reaction stoichiometry\n",
    "with pruned_model as m:\n",
    "    # Set objective to ATP maintenance reaction\n",
    "    m.objective = 'MAR03964'\n",
    "    # Define minimal medium: \n",
    "    # MAR09034: Glucose uptake, MAR09048: Oxygen uptake\n",
    "    m.medium = {'MAR09034': 1, 'MAR09048': 1000}\n",
    "\n",
    "    solution = pfba(m)\n",
    "    v = solution.fluxes.copy()\n",
    "    # Zero out protected reactions\n",
    "    v[v.index.isin(protected_reactions)] = 0\n",
    "    # Scale fluxes for consistency with the Shestov model\n",
    "    v = v / 2\n",
    "\n",
    "    S = create_stoichiometric_matrix(pruned_model, array_type='dense')\n",
    "    oxphos = build_balancing_reaction(S, v, 'OXPHOS', m)\n",
    "    \n",
    "    print(\"Oxidative Phosphorylation Reaction:\")\n",
    "    print(oxphos.build_reaction_string(use_metabolite_names=True))\n",
    "\n",
    "pruned_model.add_reactions([oxphos])\n",
    "protected_reactions.add('OXPHOS')\n"
   ],
   "metadata": {
    "collapsed": false
   },
   "outputs": [],
   "execution_count": null
  },
  {
   "metadata": {},
   "cell_type": "code",
   "source": [
    "with pruned_model as m:\n",
    "    solution = pfba(m)\n",
    "\n",
    "    summary = m.summary(solution)\n",
    "    print(summary.to_string(names=True))\n",
    "    "
   ],
   "outputs": [],
   "execution_count": null
  },
  {
   "metadata": {},
   "cell_type": "code",
   "source": [
    "import numpy as np\n",
    "\n",
    "# Sweep oxygen uptake bounds to visualize growth and L/G ratio\n",
    "o2_bounds = np.linspace(-1.0, -0.1, num=10)\n",
    "\n",
    "growth_rates = []\n",
    "l_g_ratios = []\n",
    "\n",
    "for bound in o2_bounds:\n",
    "    with pruned_model as m:\n",
    "        m.reactions.MAR09048.bounds = (bound, 0)\n",
    "        sol = pfba(m)\n",
    "        mu = sol.fluxes['MAR10024']\n",
    "        ratio = -sol.fluxes['MAR09135'] / sol.fluxes['MAR09034']\n",
    "        growth_rates.append(mu)\n",
    "        l_g_ratios.append(ratio)\n",
    "    "
   ],
   "outputs": [],
   "execution_count": null
  },
  {
   "metadata": {},
   "cell_type": "code",
   "source": [
    "import matplotlib.pyplot as plt\n",
    "\n",
    "# Plot growth rate and L/G ratio vs oxygen bound on dual axes\n",
    "fig, ax1 = plt.subplots()\n",
    "ax2 = ax1.twinx()\n",
    "\n",
    "ax1.plot(o2_bounds, growth_rates, marker='o', label='Growth rate')\n",
    "ax2.plot(o2_bounds, l_g_ratios, marker='s', label='L/G ratio', linestyle='--')\n",
    "\n",
    "ax1.set_xlabel('Oxygen uptake boundary (mmol/gDW/h)')\n",
    "ax1.set_ylabel('Growth rate (1/h)')\n",
    "ax2.set_ylabel('Lactate-to-Glucose flux ratio')\n",
    "\n",
    "lines_1, labels_1 = ax1.get_legend_handles_labels()\n",
    "lines_2, labels_2 = ax2.get_legend_handles_labels()\n",
    "ax1.legend(lines_1 + lines_2, labels_1 + labels_2, loc='lower right')\n",
    "\n",
    "plt.grid(False)\n",
    "plt.show()\n"
   ],
   "outputs": [],
   "execution_count": null
  },
  {
   "cell_type": "code",
   "source": [
    "from cobra.flux_analysis import pfba\n",
    "\n",
    "# Compute Growth reaction stoichiometry\n",
    "with pruned_model as m:\n",
    "    # Constrain oxygen uptake to get L/G flux ratio of 1.5\n",
    "    m.reactions.MAR09048.bounds = -0.53, 0\n",
    "\n",
    "    solution = pfba(m)\n",
    "    ratio = -solution.fluxes['MAR09135'] / solution.fluxes['MAR09034']\n",
    "    print(f\"Lactate-to-Glucose flux ratio: {ratio:.1f}\\n\")\n",
    "    \n",
    "    v = solution.fluxes.copy()\n",
    "    v[v.index.isin(protected_reactions)] = 0\n",
    "    v = v * 100 / solution.fluxes['MAR10024']\n",
    "\n",
    "    S = create_stoichiometric_matrix(m, array_type='dense')\n",
    "    growth_reaction = build_balancing_reaction(S, v, 'Growth', m)\n",
    "    \n",
    "    print(\"Growth Reaction Stoichiometry:\")\n",
    "    print(growth_reaction.build_reaction_string(use_metabolite_names=True))\n"
   ],
   "metadata": {
    "collapsed": false
   },
   "outputs": [],
   "execution_count": null
  }
 ],
 "metadata": {
  "kernelspec": {
   "name": "python3",
   "language": "python",
   "display_name": "Python 3 (ipykernel)"
  },
  "language_info": {
   "codemirror_mode": {
    "name": "ipython",
    "version": 2
   },
   "file_extension": ".py",
   "mimetype": "text/x-python",
   "name": "python",
   "nbconvert_exporter": "python",
   "pygments_lexer": "ipython2",
   "version": "2.7.6"
  }
 },
 "nbformat": 4,
 "nbformat_minor": 0
}
